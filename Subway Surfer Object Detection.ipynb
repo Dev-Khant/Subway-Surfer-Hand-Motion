{
 "cells": [
  {
   "cell_type": "code",
   "execution_count": 2,
   "metadata": {},
   "outputs": [],
   "source": [
    "import os\n",
    "import tensorflow as tf\n",
    "from object_detection.utils import config_util\n",
    "from object_detection.protos import pipeline_pb2\n",
    "from google.protobuf import text_format"
   ]
  },
  {
   "cell_type": "code",
   "execution_count": 2,
   "metadata": {},
   "outputs": [],
   "source": [
    "workspace_path = \"Subway Surfer Object Detection/Tensorflow/workspace\"\n",
    "scripts_path = \"Subway Surfer Object Detection/Tensorflow/scripts\"\n",
    "apimodel_path = \"Subway Surfer Object Detection/Tensorflow/models\"\n",
    "annotation_path = workspace_path +  \"/annotations\"\n",
    "image_path = workspace_path +  \"/images\"\n",
    "model_path = workspace_path +  \"/models\"\n",
    "pretrained_model_path = workspace_path +  \"/pre-trained-models\"\n",
    "config_path = model_path + \"/my_ssd_mobnet/pipeline.config\"\n",
    "checkpoint_path = model_path + \"/my_ssd_mobnet/\""
   ]
  },
  {
   "cell_type": "code",
   "execution_count": null,
   "metadata": {},
   "outputs": [],
   "source": [
    "labels = [\n",
    "    {'name' : 'Up', 'id':1},\n",
    "    {'name' : 'Down', 'id':2},\n",
    "    {'name' : 'Left', 'id':3},\n",
    "    {'name' : 'Right', 'id':4},\n",
    "    {'name' : 'Stop', 'id':5},\n",
    "]\n",
    "\n",
    "with open(annotation_path + '\\label_map.pbtxt', 'w') as f:\n",
    "    for label in labels:\n",
    "        f.write('item { \\n')\n",
    "        f.write('\\tname:\\'{}\\'\\n'.format(label['name']))\n",
    "        f.write('\\tid:{}\\n'.format(label['id']))\n",
    "        f.write('}\\n')"
   ]
  },
  {
   "cell_type": "code",
   "execution_count": null,
   "metadata": {},
   "outputs": [],
   "source": []
  }
 ],
 "metadata": {
  "kernelspec": {
   "display_name": "Python 3.8.3 64-bit",
   "language": "python",
   "name": "python38364bit8e6f55aba2f541b0b5eb6cfa27dcc9bd"
  },
  "language_info": {
   "codemirror_mode": {
    "name": "ipython",
    "version": 3
   },
   "file_extension": ".py",
   "mimetype": "text/x-python",
   "name": "python",
   "nbconvert_exporter": "python",
   "pygments_lexer": "ipython3",
   "version": "3.8.3rc1"
  }
 },
 "nbformat": 4,
 "nbformat_minor": 4
}
