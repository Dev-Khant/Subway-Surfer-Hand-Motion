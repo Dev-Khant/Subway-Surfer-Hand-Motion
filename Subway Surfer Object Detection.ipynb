{
 "cells": [
  {
   "cell_type": "markdown",
   "metadata": {},
   "source": [
    "## After Setting Up Environment\n"
   ]
  },
  {
   "cell_type": "code",
   "execution_count": null,
   "metadata": {},
   "outputs": [],
   "source": [
    "# After setting up environment from official article of Tensorflow Object Detection API\n",
    "# We simply run below commands"
   ]
  },
  {
   "cell_type": "code",
   "execution_count": null,
   "metadata": {},
   "outputs": [],
   "source": [
    "# Open the Config file in an IDE and change it according to your task.\n",
    "# For reference visit this https://tensorflow-object-detection-api-tutorial.readthedocs.io/en/latest/training.html#configuring-a-training-job"
   ]
  },
  {
   "cell_type": "code",
   "execution_count": null,
   "metadata": {},
   "outputs": [],
   "source": [
    "# !python generate_tfrecord.py -x C:/Users/DEV/Documents/Tensorflow/workspace/images/train -l C:/Users/DEV/Documents/Tensorflow/workspace/annotations/label_map.pbtxt -o C:/Users/DEV/Documents/Tensorflow/workspace/annotations/train.record\n",
    "# !python generate_tfrecord.py -x C:/Users/DEV/Documents/Tensorflow/workspace/images/test -l C:/Users/DEV/Documents/Tensorflow/workspace/annotations/label_map.pbtxt -o C:/Users/DEV/Documents/Tensorflow/workspace/annotations/test.record\n",
    "\n",
    "\n",
    "# !python model_main_tf2.py --model_dir=models/my_ssd_mobnet --pipeline_config_path=models/my_ssd_mobnet/pipeline.config --num_train_steps=10000"
   ]
  }
 ],
 "metadata": {
  "kernelspec": {
   "display_name": "Python 3.8.3 64-bit",
   "language": "python",
   "name": "python38364bit8e6f55aba2f541b0b5eb6cfa27dcc9bd"
  },
  "language_info": {
   "codemirror_mode": {
    "name": "ipython",
    "version": 3
   },
   "file_extension": ".py",
   "mimetype": "text/x-python",
   "name": "python",
   "nbconvert_exporter": "python",
   "pygments_lexer": "ipython3",
   "version": "3.8.3rc1"
  }
 },
 "nbformat": 4,
 "nbformat_minor": 4
}
