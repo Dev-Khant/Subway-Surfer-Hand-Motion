{
 "cells": [
  {
   "cell_type": "code",
   "execution_count": 12,
   "metadata": {},
   "outputs": [],
   "source": [
    "import os\n",
    "import tensorflow as tf\n",
    "from object_detection.utils import config_util\n",
    "from object_detection.protos import pipeline_pb2\n",
    "from google.protobuf import text_format"
   ]
  },
  {
   "cell_type": "code",
   "execution_count": 2,
   "metadata": {},
   "outputs": [],
   "source": [
    "workspace_path = \"Subway_Surfer_Object_Detection/Tensorflow/workspace\"\n",
    "scripts_path = \"Subway_Surfer_Object_Detection/Tensorflow/scripts\"\n",
    "apimodel_path = \"Subway_Surfer_Object_Detection/Tensorflow/models\"\n",
    "annotation_path = workspace_path +  \"/annotations\"\n",
    "image_path = workspace_path +  \"/images\"\n",
    "model_path = workspace_path +  \"/models\"\n",
    "pretrained_model_path = workspace_path +  \"/pre-trained-models\"\n",
    "config_path = model_path + \"/my_ssd_mobnet/pipeline.config\"\n",
    "checkpoint_path = model_path + \"/my_ssd_mobnet/\""
   ]
  },
  {
   "cell_type": "code",
   "execution_count": 3,
   "metadata": {},
   "outputs": [],
   "source": [
    "labels = [\n",
    "    {'name' : 'Up', 'id':1},\n",
    "    {'name' : 'Down', 'id':2},\n",
    "    {'name' : 'Left', 'id':3},\n",
    "    {'name' : 'Right', 'id':4},\n",
    "    {'name' : 'Stop', 'id':5},\n",
    "]\n",
    "\n",
    "with open(annotation_path + '\\label_map.pbtxt', 'w') as f:\n",
    "    for label in labels:\n",
    "        f.write('item { \\n')\n",
    "        f.write('\\tname:\\'{}\\'\\n'.format(label['name']))\n",
    "        f.write('\\tid:{}\\n'.format(label['id']))\n",
    "        f.write('}\\n')"
   ]
  },
  {
   "cell_type": "code",
   "execution_count": 4,
   "metadata": {},
   "outputs": [],
   "source": [
    "# Execute using command line\n",
    "\n",
    "# !python \"E:\\Datasets\\Subway_Surfer_Object_Detection/Tensorflow/scripts/generate_tfrecord.py\" -x \"E:\\Datasets\\Subway_Surfer_Object_Detection/Tensorflow/workspace/images/train\" -l \"E:\\Datasets\\Subway_Surfer_Object_Detection/Tensorflow/workspace/annotations/label_map.pbtxt\" -o \"E:\\Datasets\\Subway_Surfer_Object_Detection/Tensorflow/workspace/annotations/train.record\"\n",
    "# !python \"E:\\Datasets\\Subway_Surfer_Object_Detection/Tensorflow/scripts/generate_tfrecord.py\" -x \"E:\\Datasets\\Subway_Surfer_Object_Detection/Tensorflow/workspace/images/test\" -l \"E:\\Datasets\\Subway_Surfer_Object_Detection/Tensorflow/workspace/annotations/label_map.pbtxt\" -o \"E:\\Datasets\\Subway_Surfer_Object_Detection/Tensorflow/workspace/annotations/test.record\""
   ]
  },
  {
   "cell_type": "code",
   "execution_count": 5,
   "metadata": {},
   "outputs": [
    {
     "name": "stdout",
     "output_type": "stream",
     "text": [
      "^C\n"
     ]
    }
   ],
   "source": [
    "# !cd Subway_Surfer_Object_Detection/Tensorflow && git clone https://github.com//tensorflow/models"
   ]
  },
  {
   "cell_type": "code",
   "execution_count": 5,
   "metadata": {},
   "outputs": [],
   "source": [
    "custom_model_name = \"my_ssd_mobnet\"\n",
    "\n",
    "# !mkdir {\"Subway_Surfer_Object_Detection\\Tensorflow\\workspace\\models\\\\\" + custom_model_name}\n",
    "# !copy {pretrained_model_path + \"/ssd_mobilenet_v2_fpnlite_320x320_coco17_tpu-8/pipeline.config\"} {model_path + '/' + custom_model_name}"
   ]
  },
  {
   "cell_type": "code",
   "execution_count": 7,
   "metadata": {},
   "outputs": [],
   "source": [
    "config_path = model_path + '/' + custom_model_name + '/pipeline.config'\n",
    "\n",
    "config = config_util.get_configs_from_pipeline_file(config_path)"
   ]
  },
  {
   "cell_type": "code",
   "execution_count": 19,
   "metadata": {},
   "outputs": [
    {
     "ename": "AttributeError",
     "evalue": "module 'tensorflow.io.gfile' has no attribute 'Gfile'",
     "output_type": "error",
     "traceback": [
      "\u001b[1;31m---------------------------------------------------------------------------\u001b[0m",
      "\u001b[1;31mAttributeError\u001b[0m                            Traceback (most recent call last)",
      "\u001b[1;32m<ipython-input-19-3f9e272d509b>\u001b[0m in \u001b[0;36m<module>\u001b[1;34m\u001b[0m\n\u001b[0;32m      1\u001b[0m \u001b[0mpipeline_config\u001b[0m \u001b[1;33m=\u001b[0m \u001b[0mpipeline_pb2\u001b[0m\u001b[1;33m.\u001b[0m\u001b[0mTrainEvalPipelineConfig\u001b[0m\u001b[1;33m(\u001b[0m\u001b[1;33m)\u001b[0m\u001b[1;33m\u001b[0m\u001b[1;33m\u001b[0m\u001b[0m\n\u001b[1;32m----> 2\u001b[1;33m \u001b[1;32mwith\u001b[0m \u001b[0mtf\u001b[0m\u001b[1;33m.\u001b[0m\u001b[0mio\u001b[0m\u001b[1;33m.\u001b[0m\u001b[0mgfile\u001b[0m\u001b[1;33m.\u001b[0m\u001b[0mGfile\u001b[0m\u001b[1;33m(\u001b[0m\u001b[0mconfig_path\u001b[0m\u001b[1;33m,\u001b[0m \u001b[1;34m\"r\"\u001b[0m\u001b[1;33m)\u001b[0m \u001b[1;32mas\u001b[0m \u001b[0mf\u001b[0m\u001b[1;33m:\u001b[0m\u001b[1;33m\u001b[0m\u001b[1;33m\u001b[0m\u001b[0m\n\u001b[0m\u001b[0;32m      3\u001b[0m     \u001b[0mproto_str\u001b[0m \u001b[1;33m=\u001b[0m \u001b[0mf\u001b[0m\u001b[1;33m.\u001b[0m\u001b[0mread\u001b[0m\u001b[1;33m(\u001b[0m\u001b[1;33m)\u001b[0m\u001b[1;33m\u001b[0m\u001b[1;33m\u001b[0m\u001b[0m\n\u001b[0;32m      4\u001b[0m     \u001b[0mtext_format\u001b[0m\u001b[1;33m.\u001b[0m\u001b[0mMerge\u001b[0m\u001b[1;33m(\u001b[0m\u001b[0mproto_str\u001b[0m\u001b[1;33m,\u001b[0m \u001b[0mpipeline_config\u001b[0m\u001b[1;33m)\u001b[0m\u001b[1;33m\u001b[0m\u001b[1;33m\u001b[0m\u001b[0m\n",
      "\u001b[1;31mAttributeError\u001b[0m: module 'tensorflow.io.gfile' has no attribute 'Gfile'"
     ]
    }
   ],
   "source": [
    "# pipeline_config = pipeline_pb2.TrainEvalPipelineConfig()\n",
    "# with tf.io.gfile.Gfile(config_path, \"r\") as f:\n",
    "#     proto_str = f.read()\n",
    "#     text_format.Merge(proto_str, pipeline_config)"
   ]
  },
  {
   "cell_type": "code",
   "execution_count": null,
   "metadata": {},
   "outputs": [],
   "source": [
    "# pipeline_config.model.ssd.num_classes = 5\n",
    "# pipeline_config.train_config.batch_size = 4\n",
    "# pipeline_config.train_config.fine_tune_checkpoint = pretrained_model_path + \"/ssd_mobilenet_v2_fpnlite_320x320_coco17_tpu-18/checkpoint/ckpt-0\"\n",
    "# pipeline_config.train_config.fine_tune_checkpoint_type = \"detection\"\n",
    "# pipeline_config.train_input_reader.label_map_path = annotation_path + \"/label_map.pbtxt\"\n",
    "# pipeline_config.train_input_reader.tf_record_input_reader.input_path[:] = [annotation_path + '/train.record']\n",
    "# pipeline_config.eval_input_reader[0].label_map_path = annotation_path + \"/label_map.pbtxt\"\n",
    "# pipeline_config.eval_input_reader[0].tf_record_input_reader.input_path[:] = [annotation_path + '/test.record']"
   ]
  },
  {
   "cell_type": "code",
   "execution_count": 31,
   "metadata": {},
   "outputs": [
    {
     "name": "stderr",
     "output_type": "stream",
     "text": [
      "2021-10-27 19:05:53.532322: I tensorflow/stream_executor/platform/default/dso_loader.cc:49] Successfully opened dynamic library cudart64_110.dll\n",
      "Traceback (most recent call last):\n",
      "  File \"E:/Datasets/Subway_Surfer_Object_Detection/Tensorflow/models/research/object_detection/model_main_tf2.py\", line 32, in <module>\n",
      "    from object_detection import model_lib_v2\n",
      "ModuleNotFoundError: No module named 'object_detection'\n"
     ]
    }
   ],
   "source": [
    "!python \"E:/Datasets/Subway_Surfer_Object_Detection/Tensorflow/models/research/object_detection/model_main_tf2.py\" --model_dir=\"E:/Datasets/Subway_Surfer_Object_Detection/Tensorflow/workspace/models/my_ssd_mobnet\" --pipeline_config_path=\"E:/Datasets/Subway_Surfer_Object_Detection/Tensorflow/workspace/models/my_ssd_mobnet/pipeline.config\" --num_train_steps=1000"
   ]
  },
  {
   "cell_type": "code",
   "execution_count": null,
   "metadata": {},
   "outputs": [],
   "source": []
  }
 ],
 "metadata": {
  "kernelspec": {
   "display_name": "Python 3.8.3 64-bit",
   "language": "python",
   "name": "python38364bit8e6f55aba2f541b0b5eb6cfa27dcc9bd"
  },
  "language_info": {
   "codemirror_mode": {
    "name": "ipython",
    "version": 3
   },
   "file_extension": ".py",
   "mimetype": "text/x-python",
   "name": "python",
   "nbconvert_exporter": "python",
   "pygments_lexer": "ipython3",
   "version": "3.8.3rc1"
  }
 },
 "nbformat": 4,
 "nbformat_minor": 4
}
