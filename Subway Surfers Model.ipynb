{
 "cells": [
  {
   "cell_type": "code",
   "execution_count": 1,
   "metadata": {},
   "outputs": [],
   "source": [
    "import os\n",
    "import numpy as np\n",
    "import pandas as pd\n",
    "import matplotlib.pyplot as plt\n",
    "import tensorflow as tf\n",
    "from tensorflow.keras.models import Sequential\n",
    "from tensorflow.keras.layers import Dense, Dropout, BatchNormalization, Input, Conv2D, Flatten\n",
    "from tensorflow.keras.applications.mobilenet import MobileNet\n",
    "from tensorflow.keras.utils import to_categorical\n",
    "\n",
    "AUTOTUNE = tf.data.experimental.AUTOTUNE  "
   ]
  },
  {
   "cell_type": "code",
   "execution_count": 2,
   "metadata": {},
   "outputs": [],
   "source": [
    "arr = []\n",
    "path = [\"E:/Datasets/Subway Surfers Datasets/Up\", \"E:/Datasets/Subway Surfers Datasets/Down\", \"E:/Datasets/Subway Surfers Datasets/Left\",\n",
    "        \"E:/Datasets/Subway Surfers Datasets/Right\"]\n",
    "\n",
    "for i in path:\n",
    "    for filename in os.listdir(i):\n",
    "        f = i + \"/\" + filename\n",
    "        arr.append(f)\n",
    "        \n",
    "arr = np.array(arr)"
   ]
  },
  {
   "cell_type": "code",
   "execution_count": 3,
   "metadata": {},
   "outputs": [],
   "source": [
    "df = pd.DataFrame(columns=[\"path\", \"target\"])\n",
    "df[\"path\"] = arr\n",
    "df[\"target\"][:190] = 0           #   Up\n",
    "df[\"target\"][190:380] = 1        #   Down\n",
    "df[\"target\"][380:570] = 2        #   Left\n",
    "df[\"target\"][570:760] = 3        #   Right\n",
    "df = df.sample(frac = 1)\n",
    "df[\"target\"] = df[\"target\"].astype(np.float32)"
   ]
  },
  {
   "cell_type": "code",
   "execution_count": 4,
   "metadata": {},
   "outputs": [],
   "source": [
    "def reading(is_labelled):\n",
    "    def preprocess_image(path):\n",
    "        img = tf.io.read_file(path)\n",
    "        img = tf.image.decode_jpeg(img, channels=3)\n",
    "        img = tf.cast(img, tf.float32) / 255.0\n",
    "        img = tf.image.resize(img, (224,224))\n",
    "        return img\n",
    "    \n",
    "    def can_be_decoded(path, label):\n",
    "        label = tf.cast(tf.one_hot(tf.cast(label, tf.int32), 4), dtype = label.dtype)\n",
    "        return preprocess_image(path), label\n",
    "    \n",
    "    return can_be_decoded if is_labelled else preprocess_image\n",
    "    \n",
    "def create_dataset(data, is_labelled = False,shuffle=False):\n",
    "    read = reading(is_labelled)\n",
    "    dataset = tf.data.Dataset.from_tensor_slices((data[\"path\"].values, data[\"target\"].values))\n",
    "    dataset = dataset.map(read, num_parallel_calls = AUTOTUNE)\n",
    "    dataset = dataset.shuffle(1024, reshuffle_each_iteration=True) if shuffle else dataset\n",
    "    dataset = dataset.batch(32)\n",
    "    dataset = dataset.prefetch(AUTOTUNE)\n",
    "    return dataset"
   ]
  },
  {
   "cell_type": "code",
   "execution_count": 5,
   "metadata": {},
   "outputs": [],
   "source": [
    "trn = df.iloc[:700]\n",
    "val = df.iloc[700:]\n",
    "\n",
    "train = create_dataset(trn, is_labelled=True,shuffle = True)\n",
    "val = create_dataset(val, is_labelled=True,shuffle = False)"
   ]
  },
  {
   "cell_type": "code",
   "execution_count": 6,
   "metadata": {},
   "outputs": [
    {
     "data": {
      "text/plain": [
       "<tensorflow.python.keras.layers.core.Activation at 0x2d6a7af0610>"
      ]
     },
     "execution_count": 6,
     "metadata": {},
     "output_type": "execute_result"
    }
   ],
   "source": [
    "mobnet = MobileNet()\n",
    "mobnet.trainable = False\n",
    "mobnet._layers.pop()"
   ]
  },
  {
   "cell_type": "code",
   "execution_count": 7,
   "metadata": {},
   "outputs": [],
   "source": [
    "model = Sequential([\n",
    "    mobnet,\n",
    "    Dense(32, activation=\"relu\"),\n",
    "    Dense(4, activation=\"softmax\")\n",
    "])"
   ]
  },
  {
   "cell_type": "code",
   "execution_count": null,
   "metadata": {},
   "outputs": [
    {
     "name": "stdout",
     "output_type": "stream",
     "text": [
      "Epoch 1/10\n",
      "20/22 [==========================>...] - ETA: 0s - loss: 1.3773 - accuracy: 0.4625"
     ]
    }
   ],
   "source": [
    "model.compile(loss=\"categorical_crossentropy\", \n",
    "              optimizer = \"Adam\",\n",
    "              metrics = [\"accuracy\"])\n",
    "\n",
    "model.fit(train, epochs = 10, validation_data = val)"
   ]
  },
  {
   "cell_type": "code",
   "execution_count": null,
   "metadata": {},
   "outputs": [],
   "source": [
    "read = reading(False)\n",
    "img = read(\"E:/Datasets/Subway Surfers Datasets/img.jpg\")\n",
    "img = tf.expand_dims(img, axis=0)"
   ]
  },
  {
   "cell_type": "code",
   "execution_count": null,
   "metadata": {},
   "outputs": [],
   "source": [
    "plt.imshow(img[0])"
   ]
  },
  {
   "cell_type": "code",
   "execution_count": null,
   "metadata": {},
   "outputs": [],
   "source": [
    "pred = model.predict(img)\n",
    "m = np.argmax(pred)\n",
    "if m == 0:\n",
    "    print(\"Up\")\n",
    "elif m == 1:\n",
    "    print(\"Down\")\n",
    "elif m == 2:\n",
    "    print(\"Left\")\n",
    "else:\n",
    "    print(\"Right\")"
   ]
  },
  {
   "cell_type": "code",
   "execution_count": null,
   "metadata": {},
   "outputs": [],
   "source": [
    "pred"
   ]
  },
  {
   "cell_type": "code",
   "execution_count": null,
   "metadata": {},
   "outputs": [],
   "source": [
    "model.save(\"subway_surfer_model.h5\")"
   ]
  }
 ],
 "metadata": {
  "kernelspec": {
   "display_name": "Python 3.8.3 64-bit",
   "language": "python",
   "name": "python38364bit8e6f55aba2f541b0b5eb6cfa27dcc9bd"
  },
  "language_info": {
   "codemirror_mode": {
    "name": "ipython",
    "version": 3
   },
   "file_extension": ".py",
   "mimetype": "text/x-python",
   "name": "python",
   "nbconvert_exporter": "python",
   "pygments_lexer": "ipython3",
   "version": "3.8.3rc1"
  }
 },
 "nbformat": 4,
 "nbformat_minor": 4
}
